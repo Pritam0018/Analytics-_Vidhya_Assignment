{
 "cells": [
  {
   "cell_type": "code",
   "execution_count": 5,
   "metadata": {},
   "outputs": [],
   "source": [
    "import pandas as pd"
   ]
  },
  {
   "cell_type": "code",
   "execution_count": 9,
   "metadata": {},
   "outputs": [],
   "source": [
    "data=pd.read_csv(\"D:\\\\PROJECTS\\\\web_scrap\\\\analytics_vidhya_courses.csv\")"
   ]
  },
  {
   "cell_type": "code",
   "execution_count": null,
   "metadata": {},
   "outputs": [],
   "source": [
    "https://courses.analyticsvidhya.com/"
   ]
  },
  {
   "cell_type": "code",
   "execution_count": 11,
   "metadata": {},
   "outputs": [],
   "source": [
    "# Remove 'rating' column\n",
    "data.drop(columns=['rating'], inplace=True)"
   ]
  },
  {
   "cell_type": "code",
   "execution_count": 14,
   "metadata": {},
   "outputs": [],
   "source": [
    "# Modify the 'title' and 'lessons' columns\n",
    "data['title'] = data['title'].str.replace('- Free Course', '')   # Append \"free course\" to title\n",
    "data['lessons'] = data['lessons'].str.replace('Lessons', '')  # Replace 'Lessons' with 'lesson'"
   ]
  },
  {
   "cell_type": "code",
   "execution_count": 15,
   "metadata": {},
   "outputs": [
    {
     "data": {
      "text/html": [
       "<div>\n",
       "<style scoped>\n",
       "    .dataframe tbody tr th:only-of-type {\n",
       "        vertical-align: middle;\n",
       "    }\n",
       "\n",
       "    .dataframe tbody tr th {\n",
       "        vertical-align: top;\n",
       "    }\n",
       "\n",
       "    .dataframe thead th {\n",
       "        text-align: right;\n",
       "    }\n",
       "</style>\n",
       "<table border=\"1\" class=\"dataframe\">\n",
       "  <thead>\n",
       "    <tr style=\"text-align: right;\">\n",
       "      <th></th>\n",
       "      <th>title</th>\n",
       "      <th>lessons</th>\n",
       "      <th>link</th>\n",
       "    </tr>\n",
       "  </thead>\n",
       "  <tbody>\n",
       "    <tr>\n",
       "      <th>0</th>\n",
       "      <td>Frameworks for Effective Problem Solving</td>\n",
       "      <td>18</td>\n",
       "      <td>/courses/frameworks-for-effective-problem-solving</td>\n",
       "    </tr>\n",
       "    <tr>\n",
       "      <th>1</th>\n",
       "      <td>Anyone can Build AI Agents</td>\n",
       "      <td>5</td>\n",
       "      <td>/courses/your-ultimate-guide-to-becoming-an-ag...</td>\n",
       "    </tr>\n",
       "    <tr>\n",
       "      <th>2</th>\n",
       "      <td>A Comprehensive Learning Path to Become a Data...</td>\n",
       "      <td>298</td>\n",
       "      <td>/courses/a-comprehensive-learning-path-to-beco...</td>\n",
       "    </tr>\n",
       "    <tr>\n",
       "      <th>3</th>\n",
       "      <td>Reimagining GenAI: Common Mistakes and Best Pr...</td>\n",
       "      <td>6</td>\n",
       "      <td>/courses/reimagining-genai-common-mistakes-and...</td>\n",
       "    </tr>\n",
       "    <tr>\n",
       "      <th>4</th>\n",
       "      <td>Coding a ChatGPT-style Language Model from Scr...</td>\n",
       "      <td>7</td>\n",
       "      <td>/courses/coding-a-chatgpt-style-language-model...</td>\n",
       "    </tr>\n",
       "    <tr>\n",
       "      <th>...</th>\n",
       "      <td>...</td>\n",
       "      <td>...</td>\n",
       "      <td>...</td>\n",
       "    </tr>\n",
       "    <tr>\n",
       "      <th>73</th>\n",
       "      <td>Tableau for Beginners</td>\n",
       "      <td>17</td>\n",
       "      <td>/courses/tableau-for-beginners</td>\n",
       "    </tr>\n",
       "    <tr>\n",
       "      <th>74</th>\n",
       "      <td>Getting Started with Neural Networks</td>\n",
       "      <td>45</td>\n",
       "      <td>/courses/getting-started-with-neural-networks</td>\n",
       "    </tr>\n",
       "    <tr>\n",
       "      <th>75</th>\n",
       "      <td>Introduction to AI &amp; ML</td>\n",
       "      <td>17</td>\n",
       "      <td>/courses/introduction-to-ai-ml</td>\n",
       "    </tr>\n",
       "    <tr>\n",
       "      <th>76</th>\n",
       "      <td>Winning Data Science Hackathons - Learn from E...</td>\n",
       "      <td>7</td>\n",
       "      <td>/courses/winning-data-science-hackathons-learn...</td>\n",
       "    </tr>\n",
       "    <tr>\n",
       "      <th>77</th>\n",
       "      <td>Hypothesis Testing for Data Science and Analytics</td>\n",
       "      <td>19</td>\n",
       "      <td>/courses/hypothesis-testing-for-data-science-a...</td>\n",
       "    </tr>\n",
       "  </tbody>\n",
       "</table>\n",
       "<p>78 rows × 3 columns</p>\n",
       "</div>"
      ],
      "text/plain": [
       "                                                title lessons  \\\n",
       "0            Frameworks for Effective Problem Solving     18    \n",
       "1                         Anyone can Build AI Agents       5    \n",
       "2   A Comprehensive Learning Path to Become a Data...    298    \n",
       "3   Reimagining GenAI: Common Mistakes and Best Pr...      6    \n",
       "4   Coding a ChatGPT-style Language Model from Scr...      7    \n",
       "..                                                ...     ...   \n",
       "73                              Tableau for Beginners     17    \n",
       "74               Getting Started with Neural Networks     45    \n",
       "75                            Introduction to AI & ML     17    \n",
       "76  Winning Data Science Hackathons - Learn from E...      7    \n",
       "77  Hypothesis Testing for Data Science and Analytics     19    \n",
       "\n",
       "                                                 link  \n",
       "0   /courses/frameworks-for-effective-problem-solving  \n",
       "1   /courses/your-ultimate-guide-to-becoming-an-ag...  \n",
       "2   /courses/a-comprehensive-learning-path-to-beco...  \n",
       "3   /courses/reimagining-genai-common-mistakes-and...  \n",
       "4   /courses/coding-a-chatgpt-style-language-model...  \n",
       "..                                                ...  \n",
       "73                     /courses/tableau-for-beginners  \n",
       "74      /courses/getting-started-with-neural-networks  \n",
       "75                     /courses/introduction-to-ai-ml  \n",
       "76  /courses/winning-data-science-hackathons-learn...  \n",
       "77  /courses/hypothesis-testing-for-data-science-a...  \n",
       "\n",
       "[78 rows x 3 columns]"
      ]
     },
     "execution_count": 15,
     "metadata": {},
     "output_type": "execute_result"
    }
   ],
   "source": [
    "data"
   ]
  },
  {
   "cell_type": "code",
   "execution_count": 17,
   "metadata": {},
   "outputs": [],
   "source": [
    "# Update the 'link' column with base URL\n",
    "data['link'] = \"https://courses.analyticsvidhya.com\" + data['link'] \n",
    "\n",
    "# Save the modified data to a new CSV file\n",
    "data.to_csv('updated_courses.csv', index=False)"
   ]
  },
  {
   "cell_type": "code",
   "execution_count": null,
   "metadata": {},
   "outputs": [],
   "source": []
  }
 ],
 "metadata": {
  "kernelspec": {
   "display_name": "Python 3",
   "language": "python",
   "name": "python3"
  },
  "language_info": {
   "codemirror_mode": {
    "name": "ipython",
    "version": 3
   },
   "file_extension": ".py",
   "mimetype": "text/x-python",
   "name": "python",
   "nbconvert_exporter": "python",
   "pygments_lexer": "ipython3",
   "version": "3.8.10"
  }
 },
 "nbformat": 4,
 "nbformat_minor": 2
}
